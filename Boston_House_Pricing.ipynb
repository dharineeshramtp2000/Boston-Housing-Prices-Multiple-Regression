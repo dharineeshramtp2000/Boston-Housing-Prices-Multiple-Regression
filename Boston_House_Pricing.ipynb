{
  "nbformat": 4,
  "nbformat_minor": 0,
  "metadata": {
    "colab": {
      "name": "Boston House Pricing.ipynb",
      "provenance": [],
      "authorship_tag": "ABX9TyPMRCXll4R/GPXMzNLHeGLt",
      "include_colab_link": true
    },
    "kernelspec": {
      "name": "python3",
      "display_name": "Python 3"
    }
  },
  "cells": [
    {
      "cell_type": "markdown",
      "metadata": {
        "id": "view-in-github",
        "colab_type": "text"
      },
      "source": [
        "<a href=\"https://colab.research.google.com/github/dharineeshramtp2000/Boston-Housing-Prices-Multiple-Regression/blob/master/Boston_House_Pricing.ipynb\" target=\"_parent\"><img src=\"https://colab.research.google.com/assets/colab-badge.svg\" alt=\"Open In Colab\"/></a>"
      ]
    },
    {
      "cell_type": "markdown",
      "metadata": {
        "id": "QzNL5UpqcOl0",
        "colab_type": "text"
      },
      "source": [
        "Import the Libraries"
      ]
    },
    {
      "cell_type": "code",
      "metadata": {
        "id": "SiVoFvd0b3SK",
        "colab_type": "code",
        "outputId": "9b2e7bbe-c7eb-4f9b-eac4-1335f031d0c6",
        "colab": {
          "base_uri": "https://localhost:8080/",
          "height": 70
        }
      },
      "source": [
        "import numpy as np\n",
        "import pandas as pd\n",
        "import seaborn as sns "
      ],
      "execution_count": 1,
      "outputs": [
        {
          "output_type": "stream",
          "text": [
            "/usr/local/lib/python3.6/dist-packages/statsmodels/tools/_testing.py:19: FutureWarning: pandas.util.testing is deprecated. Use the functions in the public API at pandas.testing instead.\n",
            "  import pandas.util.testing as tm\n"
          ],
          "name": "stderr"
        }
      ]
    },
    {
      "cell_type": "markdown",
      "metadata": {
        "id": "xTTCttqqcVMU",
        "colab_type": "text"
      },
      "source": [
        "Import the Dataset \n",
        "\n",
        "\n",
        "---\n",
        "It is present in the famous scikit_learn library\n"
      ]
    },
    {
      "cell_type": "code",
      "metadata": {
        "id": "PP91AB-ecgtm",
        "colab_type": "code",
        "colab": {}
      },
      "source": [
        "from sklearn.datasets import load_boston\n",
        "boston_dataset = load_boston()\n"
      ],
      "execution_count": 0,
      "outputs": []
    },
    {
      "cell_type": "markdown",
      "metadata": {
        "id": "i5y4iyTGcr8u",
        "colab_type": "text"
      },
      "source": [
        "Now creating a matrix of the dataset using pandas library\n"
      ]
    },
    {
      "cell_type": "code",
      "metadata": {
        "id": "9_cViGUJdUJe",
        "colab_type": "code",
        "colab": {}
      },
      "source": [
        "Dataset = pd.DataFrame(boston_dataset.data, columns=boston_dataset.feature_names)"
      ],
      "execution_count": 0,
      "outputs": []
    },
    {
      "cell_type": "markdown",
      "metadata": {
        "id": "Eya5qs9ldUpq",
        "colab_type": "text"
      },
      "source": [
        "Initially the target variable, i.e., 'Median value of owner-occupied homes in $1000s' is not present in Dataset, we now have to append them."
      ]
    },
    {
      "cell_type": "code",
      "metadata": {
        "id": "9bivSdVYckCK",
        "colab_type": "code",
        "outputId": "8010469e-397b-4340-b5d8-a9e671a12599",
        "colab": {
          "base_uri": "https://localhost:8080/",
          "height": 252
        }
      },
      "source": [
        "Dataset['MEDV'] = boston_dataset.target\n",
        "print(Dataset)"
      ],
      "execution_count": 4,
      "outputs": [
        {
          "output_type": "stream",
          "text": [
            "        CRIM    ZN  INDUS  CHAS    NOX  ...    TAX  PTRATIO       B  LSTAT  MEDV\n",
            "0    0.00632  18.0   2.31   0.0  0.538  ...  296.0     15.3  396.90   4.98  24.0\n",
            "1    0.02731   0.0   7.07   0.0  0.469  ...  242.0     17.8  396.90   9.14  21.6\n",
            "2    0.02729   0.0   7.07   0.0  0.469  ...  242.0     17.8  392.83   4.03  34.7\n",
            "3    0.03237   0.0   2.18   0.0  0.458  ...  222.0     18.7  394.63   2.94  33.4\n",
            "4    0.06905   0.0   2.18   0.0  0.458  ...  222.0     18.7  396.90   5.33  36.2\n",
            "..       ...   ...    ...   ...    ...  ...    ...      ...     ...    ...   ...\n",
            "501  0.06263   0.0  11.93   0.0  0.573  ...  273.0     21.0  391.99   9.67  22.4\n",
            "502  0.04527   0.0  11.93   0.0  0.573  ...  273.0     21.0  396.90   9.08  20.6\n",
            "503  0.06076   0.0  11.93   0.0  0.573  ...  273.0     21.0  396.90   5.64  23.9\n",
            "504  0.10959   0.0  11.93   0.0  0.573  ...  273.0     21.0  393.45   6.48  22.0\n",
            "505  0.04741   0.0  11.93   0.0  0.573  ...  273.0     21.0  396.90   7.88  11.9\n",
            "\n",
            "[506 rows x 14 columns]\n"
          ],
          "name": "stdout"
        }
      ]
    },
    {
      "cell_type": "markdown",
      "metadata": {
        "id": "PY8OiumzdqlG",
        "colab_type": "text"
      },
      "source": [
        "There are 13 independent variables amd 1 dependent variable.\n",
        "So we need to see what is needed most importantly using the **Correlation Matrix**.\n",
        "\n",
        "\n",
        "---\n",
        "\n",
        "\n",
        "Other methods like Back Propagation/ Forward Propagation can be used. \n",
        "But **Correlation Matrix** is best for most speedy analysis."
      ]
    },
    {
      "cell_type": "code",
      "metadata": {
        "id": "Z4gjDExmdf0G",
        "colab_type": "code",
        "outputId": "102d0435-1fe2-4073-e0ac-8338b6d1724d",
        "colab": {
          "base_uri": "https://localhost:8080/",
          "height": 318
        }
      },
      "source": [
        "correlation_matrix = Dataset.corr().round(2)\n",
        "# annot = True to print the values inside the square\n",
        "sns.heatmap(data=correlation_matrix, annot=True)"
      ],
      "execution_count": 5,
      "outputs": [
        {
          "output_type": "execute_result",
          "data": {
            "text/plain": [
              "<matplotlib.axes._subplots.AxesSubplot at 0x7f3d8f48feb8>"
            ]
          },
          "metadata": {
            "tags": []
          },
          "execution_count": 5
        },
        {
          "output_type": "display_data",
          "data": {
            "image/png": "[encoded data removed]",
            "text/plain": [
              "<Figure size 432x288 with 2 Axes>"
            ]
          },
          "metadata": {
            "tags": [],
            "needs_background": "light"
          }
        }
      ]
    },
    {
      "cell_type": "markdown",
      "metadata": {
        "id": "g0Al1xcCeVqj",
        "colab_type": "text"
      },
      "source": [
        "Closer the values to 1 and -1 are choosen. It shows that they are highly correlated. Here LSTAT and RM is chosen, as the values are 07 and -0.74.\n",
        "\n",
        "\n",
        "---\n",
        "Hence our model is limited to only 2 independent variables.\n"
      ]
    },
    {
      "cell_type": "code",
      "metadata": {
        "id": "TVxUMqwyeU6Y",
        "colab_type": "code",
        "colab": {}
      },
      "source": [
        "X = Dataset.iloc[:,[5,12]].values\n",
        "y = Dataset.iloc[:,-1].values\n"
      ],
      "execution_count": 0,
      "outputs": []
    },
    {
      "cell_type": "markdown",
      "metadata": {
        "id": "QJj6U7-AfIbZ",
        "colab_type": "text"
      },
      "source": [
        "Feature scaling is not needed here. But its always a good practice to feature scale."
      ]
    },
    {
      "cell_type": "code",
      "metadata": {
        "id": "S8Oa9r0bfGxl",
        "colab_type": "code",
        "colab": {}
      },
      "source": [
        "from sklearn.preprocessing import StandardScaler\n",
        "sc_X = StandardScaler()\n",
        "X = sc_X.fit_transform(X)\n"
      ],
      "execution_count": 0,
      "outputs": []
    },
    {
      "cell_type": "markdown",
      "metadata": {
        "id": "cxIirCfCfS2K",
        "colab_type": "text"
      },
      "source": [
        "Splitting the data into train and test"
      ]
    },
    {
      "cell_type": "code",
      "metadata": {
        "id": "I9nxKewKfD1p",
        "colab_type": "code",
        "colab": {}
      },
      "source": [
        "from sklearn.model_selection import train_test_split\n",
        "X_train ,X_test, y_train ,y_test = train_test_split(X, y, test_size=0.2, random_state = 15)"
      ],
      "execution_count": 0,
      "outputs": []
    },
    {
      "cell_type": "markdown",
      "metadata": {
        "id": "1qsiD7QLfZgT",
        "colab_type": "text"
      },
      "source": [
        "Importing the linear regression models(using SGD)"
      ]
    },
    {
      "cell_type": "code",
      "metadata": {
        "id": "aeHSD4gIfXQz",
        "colab_type": "code",
        "outputId": "86e06a0e-3394-465f-c189-947de0ce70bf",
        "colab": {
          "base_uri": "https://localhost:8080/",
          "height": 118
        }
      },
      "source": [
        "from sklearn.linear_model import SGDRegressor, LinearRegression\n",
        "regressor = SGDRegressor(max_iter=10000, tol=1e-3, alpha =0.001, random_state = 0, learning_rate = 'constant' , eta0 = 0.001)\n",
        "regressor.fit(X_train, y_train)\n"
      ],
      "execution_count": 9,
      "outputs": [
        {
          "output_type": "execute_result",
          "data": {
            "text/plain": [
              "SGDRegressor(alpha=0.001, average=False, early_stopping=False, epsilon=0.1,\n",
              "             eta0=0.001, fit_intercept=True, l1_ratio=0.15,\n",
              "             learning_rate='constant', loss='squared_loss', max_iter=10000,\n",
              "             n_iter_no_change=5, penalty='l2', power_t=0.25, random_state=0,\n",
              "             shuffle=True, tol=0.001, validation_fraction=0.1, verbose=0,\n",
              "             warm_start=False)"
            ]
          },
          "metadata": {
            "tags": []
          },
          "execution_count": 9
        }
      ]
    },
    {
      "cell_type": "markdown",
      "metadata": {
        "id": "vTmkk2VxfpEi",
        "colab_type": "text"
      },
      "source": [
        "Predicting the output for our SGD Linear Model with the test set"
      ]
    },
    {
      "cell_type": "code",
      "metadata": {
        "id": "YuHftpO5fkiB",
        "colab_type": "code",
        "outputId": "528a2173-7423-4917-8548-bcd76c47d518",
        "colab": {
          "base_uri": "https://localhost:8080/",
          "height": 1000
        }
      },
      "source": [
        "y_pred = regressor.predict(X_test)\n",
        "print(\"Predicted Result\",\"  \",\"Actual Result\")\n",
        "for i in range(len(y_pred)):\n",
        "  print(\"    \",round(y_pred[i],1),\"            \",y_test[i])"
      ],
      "execution_count": 10,
      "outputs": [
        {
          "output_type": "stream",
          "text": [
            "Predicted Result    Actual Result\n",
            "     26.3              22.0\n",
            "     37.6              48.8\n",
            "     17.8              23.1\n",
            "     24.6              11.9\n",
            "     26.5              22.8\n",
            "     1.3              13.8\n",
            "     10.9              19.3\n",
            "     12.2              16.3\n",
            "     27.8              23.3\n",
            "     19.4              17.6\n",
            "     20.1              18.1\n",
            "     23.7              21.2\n",
            "     22.7              17.5\n",
            "     21.8              13.4\n",
            "     23.7              22.0\n",
            "     21.0              10.9\n",
            "     5.7              7.2\n",
            "     6.7              5.0\n",
            "     24.3              20.6\n",
            "     8.1              16.5\n",
            "     34.8              43.5\n",
            "     16.7              13.9\n",
            "     23.5              20.8\n",
            "     21.6              18.0\n",
            "     23.9              20.4\n",
            "     20.4              18.5\n",
            "     26.4              22.0\n",
            "     19.0              16.8\n",
            "     23.2              19.6\n",
            "     28.1              22.9\n",
            "     25.8              23.3\n",
            "     4.8              14.6\n",
            "     24.3              19.8\n",
            "     20.2              20.6\n",
            "     24.0              24.4\n",
            "     19.7              20.8\n",
            "     22.8              21.7\n",
            "     20.5              22.8\n",
            "     20.7              13.1\n",
            "     18.4              18.9\n",
            "     38.5              42.8\n",
            "     31.9              33.2\n",
            "     21.8              16.7\n",
            "     26.2              22.3\n",
            "     26.8              29.8\n",
            "     20.9              18.9\n",
            "     17.4              18.8\n",
            "     31.2              28.7\n",
            "     28.0              23.1\n",
            "     19.6              13.3\n",
            "     32.6              35.4\n",
            "     16.8              15.6\n",
            "     16.0              13.1\n",
            "     13.4              8.3\n",
            "     20.3              19.6\n",
            "     32.3              32.9\n",
            "     9.3              8.5\n",
            "     30.3              25.0\n",
            "     14.5              13.3\n",
            "     29.3              22.0\n",
            "     14.8              13.8\n",
            "     24.1              36.2\n",
            "     18.0              19.5\n",
            "     25.7              24.3\n",
            "     31.9              32.0\n",
            "     21.4              19.3\n",
            "     21.0              23.8\n",
            "     17.5              17.5\n",
            "     25.5              22.9\n",
            "     19.8              18.4\n",
            "     18.1              20.3\n",
            "     28.1              24.4\n",
            "     22.0              21.7\n",
            "     18.1              13.5\n",
            "     33.4              34.9\n",
            "     28.9              24.1\n",
            "     32.4              43.1\n",
            "     17.4              16.6\n",
            "     20.6              13.8\n",
            "     14.1              10.5\n",
            "     9.7              15.7\n",
            "     16.4              10.2\n",
            "     35.5              42.3\n",
            "     29.8              33.0\n",
            "     35.8              50.0\n",
            "     22.3              16.4\n",
            "     32.1              32.7\n",
            "     19.8              21.4\n",
            "     22.6              22.6\n",
            "     20.6              16.2\n",
            "     32.8              34.7\n",
            "     25.8              21.9\n",
            "     39.9              21.9\n",
            "     22.9              18.9\n",
            "     20.2              23.3\n",
            "     27.9              26.7\n",
            "     19.3              18.9\n",
            "     31.8              36.2\n",
            "     18.0              21.7\n",
            "     22.8              21.7\n",
            "     18.7              14.6\n",
            "     11.9              5.6\n"
          ],
          "name": "stdout"
        }
      ]
    },
    {
      "cell_type": "markdown",
      "metadata": {
        "id": "SWH5qOk3f10o",
        "colab_type": "text"
      },
      "source": [
        "Now lets calculate the Coefficient of Determination and the RMSE for our training set"
      ]
    },
    {
      "cell_type": "code",
      "metadata": {
        "id": "tgtP0FINhKN8",
        "colab_type": "code",
        "outputId": "75a24a40-09c5-4ff9-f4c8-8623f18609e3",
        "colab": {
          "base_uri": "https://localhost:8080/",
          "height": 134
        }
      },
      "source": [
        "from sklearn.metrics import r2_score , mean_squared_error\n",
        "\n",
        "rmse_train = (np.sqrt(mean_squared_error(y_train, regressor.predict(X_train) )))\n",
        "r_squared_train = r2_score(y_train , regressor.predict(X_train))\n",
        "print(\"R squared for the training set\")\n",
        "print(\"---------------------------------\")\n",
        "print(r_squared_train)\n",
        "print(\"---------------------------------\")\n",
        "print(\"RMSEfor the training set\")\n",
        "print(\"---------------------------------\")\n",
        "print(rmse_train)\n"
      ],
      "execution_count": 11,
      "outputs": [
        {
          "output_type": "stream",
          "text": [
            "R squared for the training set\n",
            "---------------------------------\n",
            "0.6362389664211909\n",
            "---------------------------------\n",
            "RMSEfor the training set\n",
            "---------------------------------\n",
            "5.591570341469169\n"
          ],
          "name": "stdout"
        }
      ]
    },
    {
      "cell_type": "markdown",
      "metadata": {
        "id": "MhX1XJSXhfQk",
        "colab_type": "text"
      },
      "source": [
        "Now lets calculate the Coefficient of Determination and the RMSE for our training set"
      ]
    },
    {
      "cell_type": "code",
      "metadata": {
        "id": "o66JMZz2hjrE",
        "colab_type": "code",
        "outputId": "15e47699-8258-4270-c387-94bbef0e1469",
        "colab": {
          "base_uri": "https://localhost:8080/",
          "height": 134
        }
      },
      "source": [
        "rmse_test = (np.sqrt(mean_squared_error(y_test, regressor.predict(X_test) )))\n",
        "r_squared_test = r2_score(y_test , regressor.predict(X_test))\n",
        "print(\"R squared for the testing set\")\n",
        "print(\"---------------------------------\")\n",
        "print(r_squared_test)\n",
        "print(\"---------------------------------\")\n",
        "print(\"RMSEfor the testing set\")\n",
        "print(\"---------------------------------\")\n",
        "print(rmse_test)"
      ],
      "execution_count": 12,
      "outputs": [
        {
          "output_type": "stream",
          "text": [
            "R squared for the testing set\n",
            "---------------------------------\n",
            "0.6419458683865672\n",
            "---------------------------------\n",
            "RMSEfor the testing set\n",
            "---------------------------------\n",
            "5.26201373391176\n"
          ],
          "name": "stdout"
        }
      ]
    },
    {
      "cell_type": "markdown",
      "metadata": {
        "id": "0ReimGDOiAMT",
        "colab_type": "text"
      },
      "source": [
        "The **RMSE** and the **R squared** for the test and the training set is almost the same , which shows that our model has not done any overfitting.\n",
        "The model can be well improved by going to more Algorithms like Polynomial, SVMs , foresting and Boosting Algorithms."
      ]
    }
  ]
}